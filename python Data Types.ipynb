{
  "nbformat": 4,
  "nbformat_minor": 0,
  "metadata": {
    "colab": {
      "provenance": [],
      "authorship_tag": "ABX9TyOBDtP75FXKZSZQ/+cy9YAM",
      "include_colab_link": true
    },
    "kernelspec": {
      "name": "python3",
      "display_name": "Python 3"
    },
    "language_info": {
      "name": "python"
    }
  },
  "cells": [
    {
      "cell_type": "markdown",
      "metadata": {
        "id": "view-in-github",
        "colab_type": "text"
      },
      "source": [
        "<a href=\"https://colab.research.google.com/github/2403a54029-creator/B18DAV/blob/main/python%20Data%20Types.ipynb\" target=\"_parent\"><img src=\"https://colab.research.google.com/assets/colab-badge.svg\" alt=\"Open In Colab\"/></a>"
      ]
    },
    {
      "cell_type": "markdown",
      "source": [
        "Creating a list"
      ],
      "metadata": {
        "id": "QyOYChNYXB78"
      }
    },
    {
      "cell_type": "code",
      "execution_count": 1,
      "metadata": {
        "colab": {
          "base_uri": "https://localhost:8080/"
        },
        "id": "36fO_XAuVjXN",
        "outputId": "f6134e7e-17cd-4f8b-d763-ebb828a55609"
      },
      "outputs": [
        {
          "output_type": "stream",
          "name": "stdout",
          "text": [
            "Created List: [1, 2, 'hello', 3.14, True]\n"
          ]
        }
      ],
      "source": [
        "my_list = [1, 2, \"hello\", 3.14, True]\n",
        "print(\"Created List:\", my_list)"
      ]
    },
    {
      "cell_type": "markdown",
      "source": [
        "Creating a Tuple"
      ],
      "metadata": {
        "id": "Qn5bqzyCYL8j"
      }
    },
    {
      "cell_type": "code",
      "source": [
        "my_tuple = (10, 20, \"world\", False)\n",
        "print(\"Created Tuple:\", my_tuple)"
      ],
      "metadata": {
        "colab": {
          "base_uri": "https://localhost:8080/"
        },
        "id": "kL0-yOzSW8rh",
        "outputId": "de7cfd5b-d6f0-4b7d-d536-4e45f9a62535"
      },
      "execution_count": 3,
      "outputs": [
        {
          "output_type": "stream",
          "name": "stdout",
          "text": [
            "Created Tuple: (10, 20, 'world', False)\n"
          ]
        }
      ]
    },
    {
      "cell_type": "markdown",
      "source": [
        "Creating a dictionary"
      ],
      "metadata": {
        "id": "iaFE8UrsY4Ix"
      }
    },
    {
      "cell_type": "code",
      "source": [
        "my_dictionary = {\n",
        "    \"name\": \"Alice\",\n",
        "    \"age\": 30,\n",
        "    \"city\": \"New York\"\n",
        "}\n",
        "print(\"Created Dictionary:\", my_dictionary)"
      ],
      "metadata": {
        "colab": {
          "base_uri": "https://localhost:8080/"
        },
        "id": "cvCer4LIY8TB",
        "outputId": "0d7a0745-4d65-42a3-8a4c-ceb59bb03c6a"
      },
      "execution_count": 4,
      "outputs": [
        {
          "output_type": "stream",
          "name": "stdout",
          "text": [
            "Created Dictionary: {'name': 'Alice', 'age': 30, 'city': 'New York'}\n"
          ]
        }
      ]
    }
  ]
}